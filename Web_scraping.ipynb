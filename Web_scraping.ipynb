{
 "cells": [
  {
   "cell_type": "code",
   "execution_count": 1,
   "id": "32452e99-8a6b-40da-b2db-a62d4ffad704",
   "metadata": {},
   "outputs": [
    {
     "name": "stdout",
     "output_type": "stream",
     "text": [
      "Requirement already satisfied: requests in /home/iiitmanipur/anaconda3/lib/python3.12/site-packages (2.32.3)\n",
      "Requirement already satisfied: beautifulsoup4 in /home/iiitmanipur/anaconda3/lib/python3.12/site-packages (4.12.3)\n",
      "Requirement already satisfied: selenium in /home/iiitmanipur/anaconda3/lib/python3.12/site-packages (4.28.1)\n",
      "Requirement already satisfied: pandas in /home/iiitmanipur/anaconda3/lib/python3.12/site-packages (2.2.2)\n",
      "Requirement already satisfied: charset-normalizer<4,>=2 in /home/iiitmanipur/anaconda3/lib/python3.12/site-packages (from requests) (3.3.2)\n",
      "Requirement already satisfied: idna<4,>=2.5 in /home/iiitmanipur/anaconda3/lib/python3.12/site-packages (from requests) (3.7)\n",
      "Requirement already satisfied: urllib3<3,>=1.21.1 in /home/iiitmanipur/anaconda3/lib/python3.12/site-packages (from requests) (2.2.3)\n",
      "Requirement already satisfied: certifi>=2017.4.17 in /home/iiitmanipur/anaconda3/lib/python3.12/site-packages (from requests) (2024.8.30)\n",
      "Requirement already satisfied: soupsieve>1.2 in /home/iiitmanipur/anaconda3/lib/python3.12/site-packages (from beautifulsoup4) (2.5)\n",
      "Requirement already satisfied: trio~=0.17 in /home/iiitmanipur/anaconda3/lib/python3.12/site-packages (from selenium) (0.28.0)\n",
      "Requirement already satisfied: trio-websocket~=0.9 in /home/iiitmanipur/anaconda3/lib/python3.12/site-packages (from selenium) (0.11.1)\n",
      "Requirement already satisfied: typing_extensions~=4.9 in /home/iiitmanipur/anaconda3/lib/python3.12/site-packages (from selenium) (4.11.0)\n",
      "Requirement already satisfied: websocket-client~=1.8 in /home/iiitmanipur/anaconda3/lib/python3.12/site-packages (from selenium) (1.8.0)\n",
      "Requirement already satisfied: numpy>=1.26.0 in /home/iiitmanipur/anaconda3/lib/python3.12/site-packages (from pandas) (1.26.4)\n",
      "Requirement already satisfied: python-dateutil>=2.8.2 in /home/iiitmanipur/anaconda3/lib/python3.12/site-packages (from pandas) (2.9.0.post0)\n",
      "Requirement already satisfied: pytz>=2020.1 in /home/iiitmanipur/anaconda3/lib/python3.12/site-packages (from pandas) (2024.1)\n",
      "Requirement already satisfied: tzdata>=2022.7 in /home/iiitmanipur/anaconda3/lib/python3.12/site-packages (from pandas) (2023.3)\n",
      "Requirement already satisfied: six>=1.5 in /home/iiitmanipur/anaconda3/lib/python3.12/site-packages (from python-dateutil>=2.8.2->pandas) (1.16.0)\n",
      "Requirement already satisfied: attrs>=23.2.0 in /home/iiitmanipur/anaconda3/lib/python3.12/site-packages (from trio~=0.17->selenium) (25.1.0)\n",
      "Requirement already satisfied: sortedcontainers in /home/iiitmanipur/anaconda3/lib/python3.12/site-packages (from trio~=0.17->selenium) (2.4.0)\n",
      "Requirement already satisfied: outcome in /home/iiitmanipur/anaconda3/lib/python3.12/site-packages (from trio~=0.17->selenium) (1.3.0.post0)\n",
      "Requirement already satisfied: sniffio>=1.3.0 in /home/iiitmanipur/anaconda3/lib/python3.12/site-packages (from trio~=0.17->selenium) (1.3.0)\n",
      "Requirement already satisfied: wsproto>=0.14 in /home/iiitmanipur/anaconda3/lib/python3.12/site-packages (from trio-websocket~=0.9->selenium) (1.2.0)\n",
      "Requirement already satisfied: pysocks!=1.5.7,<2.0,>=1.5.6 in /home/iiitmanipur/anaconda3/lib/python3.12/site-packages (from urllib3[socks]<3,>=1.26->selenium) (1.7.1)\n",
      "Requirement already satisfied: h11<1,>=0.9.0 in /home/iiitmanipur/anaconda3/lib/python3.12/site-packages (from wsproto>=0.14->trio-websocket~=0.9->selenium) (0.14.0)\n"
     ]
    }
   ],
   "source": [
    "!pip install requests beautifulsoup4 selenium pandas\n"
   ]
  },
  {
   "cell_type": "code",
   "execution_count": null,
   "id": "ee9feea4-f64d-451e-8acb-958f77679dcc",
   "metadata": {},
   "outputs": [
    {
     "name": "stdout",
     "output_type": "stream",
     "text": [
      "Reading package lists...\n",
      "E: Could not open lock file /var/lib/apt/lists/lock - open (13: Permission denied)\n",
      "E: Unable to lock directory /var/lib/apt/lists/\n",
      "W: Problem unlinking the file /var/cache/apt/pkgcache.bin - RemoveCaches (13: Permission denied)\n",
      "W: Problem unlinking the file /var/cache/apt/srcpkgcache.bin - RemoveCaches (13: Permission denied)\n",
      "E: Could not open lock file /var/lib/dpkg/lock-frontend - open (13: Permission denied)\n",
      "E: Unable to acquire the dpkg frontend lock (/var/lib/dpkg/lock-frontend), are you root?\n",
      "--2025-02-12 16:15:45--  https://dl.google.com/linux/direct/google-chrome-stable_current_amd64.deb\n",
      "Resolving dl.google.com (dl.google.com)... 142.250.77.238, 2404:6800:4002:825::200e\n",
      "Connecting to dl.google.com (dl.google.com)|142.250.77.238|:443... connected.\n",
      "HTTP request sent, awaiting response... 200 OK\n",
      "Length: 114071328 (109M) [application/x-debian-package]\n",
      "Saving to: ‘google-chrome-stable_current_amd64.deb.1’\n",
      "\n",
      "google-chrome-stabl 100%[===================>] 108.79M  1.70MB/s    in 1m 47s  \n",
      "\n",
      "2025-02-12 16:17:33 (1.01 MB/s) - ‘google-chrome-stable_current_amd64.deb.1’ saved [114071328/114071328]\n",
      "\n",
      "\u001b[1mdpkg:\u001b[0m \u001b[1;31merror:\u001b[0m requested operation requires superuser privilege\n",
      "E: Could not open lock file /var/lib/dpkg/lock-frontend - open (13: Permission denied)\n",
      "E: Unable to acquire the dpkg frontend lock (/var/lib/dpkg/lock-frontend), are you root?\n",
      "--2025-02-12 16:17:34--  https://chromedriver.storage.googleapis.com/114.0.5735.90/chromedriver_linux64.zip\n",
      "Resolving chromedriver.storage.googleapis.com (chromedriver.storage.googleapis.com)... 216.58.200.187, 142.250.77.219, 142.250.193.251, ...\n",
      "Connecting to chromedriver.storage.googleapis.com (chromedriver.storage.googleapis.com)|216.58.200.187|:443... connected.\n",
      "HTTP request sent, awaiting response... 200 OK\n",
      "Length: 7407250 (7.1M) [application/zip]\n",
      "Saving to: ‘chromedriver_linux64.zip.1’\n",
      "\n",
      "chromedriver_linux6 100%[===================>]   7.06M  1.29MB/s    in 6.1s    \n",
      "\n",
      "2025-02-12 16:17:41 (1.17 MB/s) - ‘chromedriver_linux64.zip.1’ saved [7407250/7407250]\n",
      "\n",
      "Archive:  chromedriver_linux64.zip\n",
      "replace chromedriver? [y]es, [n]o, [A]ll, [N]one, [r]ename: "
     ]
    }
   ],
   "source": [
    "!apt-get update -q\n",
    "!apt install -y wget curl unzip\n",
    "!wget https://dl.google.com/linux/direct/google-chrome-stable_current_amd64.deb\n",
    "!dpkg -i google-chrome-stable_current_amd64.deb\n",
    "!apt --fix-broken install -y\n",
    "\n",
    "# Install ChromeDriver\n",
    "!wget https://chromedriver.storage.googleapis.com/114.0.5735.90/chromedriver_linux64.zip\n",
    "!unzip chromedriver_linux64.zip\n",
    "!mv chromedriver /usr/bin/chromedriver\n",
    "!chmod +x /usr/bin/chromedriver\n"
   ]
  },
  {
   "cell_type": "code",
   "execution_count": null,
   "id": "96c7352d-bef3-4b6f-bd6e-458498546bf2",
   "metadata": {},
   "outputs": [],
   "source": [
    "from selenium import webdriver\n",
    "from selenium.webdriver.chrome.options import Options\n",
    "\n",
    "# Set up Chrome options for headless mode\n",
    "chrome_options = Options()\n",
    "chrome_options.add_argument('--headless')\n",
    "chrome_options.add_argument('--no-sandbox')\n",
    "chrome_options.add_argument('--disable-dev-shm-usage')\n",
    "\n",
    "# Set up the Selenium WebDriver with the options\n",
    "driver = webdriver.Chrome('chromedriver', options=chrome_options)\n",
    "\n",
    "# Test if it works by opening a page\n",
    "driver.get('https://www.google.com')\n",
    "print(driver.title)\n",
    "\n",
    "driver.quit()\n"
   ]
  },
  {
   "cell_type": "code",
   "execution_count": null,
   "id": "5bc70dd8-fed8-4aba-bbec-40cfc5c130b1",
   "metadata": {},
   "outputs": [],
   "source": [
    "from selenium import webdriver\n",
    "from bs4 import BeautifulSoup\n",
    "\n",
    "# Set up Chrome options for headless mode\n",
    "chrome_options = Options()\n",
    "chrome_options.add_argument('--headless')\n",
    "chrome_options.add_argument('--no-sandbox')\n",
    "chrome_options.add_argument('--disable-dev-shm-usage')\n",
    "\n",
    "# Set up the Selenium WebDriver\n",
    "driver = webdriver.Chrome('chromedriver', options=chrome_options)\n",
    "\n",
    "# Open the Amazon product page\n",
    "url = \"https://www.amazon.in/dp/B08N5WRWNW\"  # Example product URL\n",
    "driver.get(url)\n",
    "\n",
    "# Wait for the page to load completely\n",
    "driver.implicitly_wait(5)\n",
    "\n",
    "# Parse the page content with BeautifulSoup\n",
    "soup = BeautifulSoup(driver.page_source, 'html.parser')\n",
    "\n",
    "# Extract the price\n",
    "price = soup.find('span', {'id': 'priceblock_ourprice'})\n",
    "if price:\n",
    "    print(f\"Amazon Price: {price.text.strip()}\")\n",
    "\n",
    "driver.quit()\n"
   ]
  },
  {
   "cell_type": "code",
   "execution_count": null,
   "id": "f112c072-287c-4e0e-84fc-ad0574e169de",
   "metadata": {},
   "outputs": [],
   "source": [
    "# Example of scraped prices\n",
    "amazon_price = \"₹1,999\"\n",
    "flipkart_price = \"₹1,899\"\n",
    "myntra_price = \"₹2,099\"\n",
    "snapdeal_price = \"₹1,950\"\n",
    "\n",
    "# Create a dictionary with prices\n",
    "prices = {\n",
    "    \"Amazon\": amazon_price,\n",
    "    \"Flipkart\": flipkart_price,\n",
    "    \"Myntra\": myntra_price,\n",
    "    \"Snapdeal\": snapdeal_price\n",
    "}\n",
    "\n",
    "# Find the lowest price\n",
    "lowest_price = min(prices, key=prices.get)\n",
    "print(f\"Lowest Price: {lowest_price} - {prices[lowest_price]}\")\n"
   ]
  },
  {
   "cell_type": "code",
   "execution_count": null,
   "id": "7868a575-bc2c-4cc8-b407-37858f5ad186",
   "metadata": {},
   "outputs": [],
   "source": [
    "import pandas as pd\n",
    "\n",
    "# Create a DataFrame to display prices\n",
    "df = pd.DataFrame(list(prices.items()), columns=[\"Website\", \"Price\"])\n",
    "print(df)\n",
    "\n",
    "# Find the lowest price\n",
    "lowest_price_row = df.loc[df['Price'] == df['Price'].min()]\n",
    "print(f\"Lowest Price: {lowest_price_row['Website'].values[0]} - {lowest_price_row['Price'].values[0]}\")\n"
   ]
  },
  {
   "cell_type": "code",
   "execution_count": null,
   "id": "3629a59b-2ba2-4238-88e6-328f147dd015",
   "metadata": {},
   "outputs": [],
   "source": [
    "df.to_csv('price_comparison.csv', index=False)\n"
   ]
  },
  {
   "cell_type": "code",
   "execution_count": null,
   "id": "96c48067-033b-46b2-8d9c-4be90d5f9cf9",
   "metadata": {},
   "outputs": [],
   "source": []
  }
 ],
 "metadata": {
  "kernelspec": {
   "display_name": "Python 3 (ipykernel)",
   "language": "python",
   "name": "python3"
  },
  "language_info": {
   "codemirror_mode": {
    "name": "ipython",
    "version": 3
   },
   "file_extension": ".py",
   "mimetype": "text/x-python",
   "name": "python",
   "nbconvert_exporter": "python",
   "pygments_lexer": "ipython3",
   "version": "3.12.7"
  }
 },
 "nbformat": 4,
 "nbformat_minor": 5
}
